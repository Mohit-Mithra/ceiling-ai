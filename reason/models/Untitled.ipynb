{
 "cells": [
  {
   "cell_type": "code",
   "execution_count": 1,
   "metadata": {},
   "outputs": [],
   "source": [
    "import tensorflow as tf\n",
    "import tensorflow.keras as keras\n",
    "from tensorflow.keras import backend"
   ]
  },
  {
   "cell_type": "code",
   "execution_count": 2,
   "metadata": {},
   "outputs": [
    {
     "name": "stderr",
     "output_type": "stream",
     "text": [
      "Using TensorFlow backend.\n"
     ]
    }
   ],
   "source": [
    "from base_rnn import BaseRNN"
   ]
  },
  {
   "cell_type": "markdown",
   "metadata": {},
   "source": [
    "import torch\n",
    "import torch.nn as nn\n",
    "import torch.nn.functional as F\n",
    "\n",
    "\n",
    "class Attention(nn.Module):\n",
    "    \"\"\"Attention layer\"\"\"\n",
    "        \n",
    "    def __init__(self, dim, use_weight=False, hidden_size=512):\n",
    "        super(Attention, self).__init__()\n",
    "        self.use_weight = use_weight\n",
    "        self.hidden_size = hidden_size\n",
    "        if use_weight:\n",
    "            print('| using weighted attention layer')\n",
    "            self.attn_weight = nn.Linear(hidden_size, hidden_size, bias=False)\n",
    "        self.linear_out = nn.Linear(2*dim, dim)\n",
    "\n",
    "    def forward(self, output, context):\n",
    "        \"\"\"\n",
    "        - args\n",
    "        output : Tensor\n",
    "            decoder output, dim (batch_size, output_size, hidden_size)\n",
    "        context : Tensor\n",
    "            context vector from encoder, dim (batch_size, input_size, hidden_size)\n",
    "        - returns\n",
    "        output : Tensor\n",
    "            attention layer output, dim (batch_size, output_size, hidden_size)\n",
    "        attn : Tensor\n",
    "            attention map, dim (batch_size, output_size, input_size)\n",
    "        \"\"\"\n",
    "        batch_size = output.size(0)\n",
    "        hidden_size = output.size(2)\n",
    "        input_size = context.size(1)\n",
    "\n",
    "        if self.use_weight:\n",
    "            output = self.attn_weight(output.contiguous().view(-1, hidden_size)).view(batch_size, -1, hidden_size)\n",
    "\n",
    "        attn = torch.bmm(output, context.transpose(1, 2))\n",
    "        attn = F.softmax(attn.view(-1, input_size), dim=1).view(batch_size, -1, input_size) # (batch_size, output_size, input_size)\n",
    "\n",
    "        mix = torch.bmm(attn, context) # (batch_size, output_size, hidden_size)\n",
    "        comb = torch.cat((mix, output), dim=2) # (batch_size, output_size, 2*hidden_size)\n",
    "        output = F.tanh(self.linear_out(comb.view(-1, 2*hidden_size)).view(batch_size, -1, hidden_size)) # (batch_size, output_size, hidden_size)\n",
    "\n",
    "        return output, attn"
   ]
  },
  {
   "cell_type": "code",
   "execution_count": 5,
   "metadata": {},
   "outputs": [],
   "source": [
    "class Attention(keras.layers.Layer):\n",
    "    \"\"\"Attention layer\"\"\"\n",
    "        \n",
    "    def __init__(self, dim, use_weight=False, hidden_size=512):\n",
    "        super(Attention, self).__init__()\n",
    "        self.use_weight = use_weight\n",
    "        self.hidden_size = hidden_size\n",
    "        if use_weight:\n",
    "            print('| using weighted attention layer')\n",
    "            self.attn_weight = keras.layers.Dense(hidden_size, input_shape=(hidden_size,), use_bias=False)\n",
    "        self.linear_out = keras.layers.Dense(dim, input_shape=(2*dim,))\n",
    "\n",
    "    def call(self, output, context):\n",
    "        \"\"\"\n",
    "        - args\n",
    "        output : Tensor\n",
    "            decoder output, dim (batch_size, output_size, hidden_size)\n",
    "        context : Tensor\n",
    "            context vector from encoder, dim (batch_size, input_size, hidden_size)\n",
    "        - returns\n",
    "        output : Tensor\n",
    "            attention layer output, dim (batch_size, output_size, hidden_size)\n",
    "        attn : Tensor\n",
    "            attention map, dim (batch_size, output_size, input_size)\n",
    "        \"\"\"\n",
    "        batch_size = output.size(0)\n",
    "        hidden_size = output.size(2)\n",
    "        input_size = context.size(1)\n",
    "\n",
    "        if self.use_weight:\n",
    "            output1 = tf.reshape(output.contiguous(), [-1, hidden_size])\n",
    "            output = tf.reshape(self.attn_weight(output1), [batch_size, -1, hidden_size])\n",
    "            \n",
    "        attn = tf.linalg.matmul(output, context.transpose(1, 2))\n",
    "        attn1 = keras.activations.softmax(tf.reshape(attn, [-1, input_size]), axis=1)\n",
    "        attn = tf.reshape(attn1, [batch_size, -1, input_size]) # (batch_size, output_size, input_size)\n",
    "\n",
    "        mix = tf.linalg.matmul(attn, context) # (batch_size, output_size, hidden_size)\n",
    "        comb = tf.concat((mix, output), axis=2) # (batch_size, output_size, 2*hidden_size)\n",
    "        output1 = self.linear_out(tf.reshape(comb, [-1, 2*hidden_size]))\n",
    "        output = tf.reshape(keras.activations.tanh(output1), [batch_size, -1, hidden_size]) # (batch_size, output_size, hidden_size)\n",
    "\n",
    "        return output, attn"
   ]
  },
  {
   "cell_type": "code",
   "execution_count": 6,
   "metadata": {},
   "outputs": [
    {
     "data": {
      "text/plain": [
       "<__main__.Attention at 0x7fb2433218d0>"
      ]
     },
     "execution_count": 6,
     "metadata": {},
     "output_type": "execute_result"
    }
   ],
   "source": [
    "Attention(10)"
   ]
  },
  {
   "cell_type": "code",
   "execution_count": null,
   "metadata": {},
   "outputs": [],
   "source": []
  }
 ],
 "metadata": {
  "kernelspec": {
   "display_name": "Python 3",
   "language": "python",
   "name": "python3"
  },
  "language_info": {
   "codemirror_mode": {
    "name": "ipython",
    "version": 3
   },
   "file_extension": ".py",
   "mimetype": "text/x-python",
   "name": "python",
   "nbconvert_exporter": "python",
   "pygments_lexer": "ipython3",
   "version": "3.7.3"
  }
 },
 "nbformat": 4,
 "nbformat_minor": 2
}
