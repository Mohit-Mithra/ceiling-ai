{
 "cells": [
  {
   "cell_type": "code",
   "execution_count": 1,
   "metadata": {},
   "outputs": [
    {
     "name": "stderr",
     "output_type": "stream",
     "text": [
      "Using TensorFlow backend.\n"
     ]
    }
   ],
   "source": [
    "import tensorflow as tf\n",
    "import keras"
   ]
  },
  {
   "cell_type": "markdown",
   "metadata": {},
   "source": [
    "def bleh():\n",
    "    import torch.nn as nn\n",
    "    from .base_rnn import BaseRNN\n",
    "\n",
    "\n",
    "    class Encoder(BaseRNN):\n",
    "        \"\"\"Encoder RNN module\"\"\"\n",
    "\n",
    "        def __init__(self, vocab_size, max_len, word_vec_dim, hidden_size, n_layers,\n",
    "                     input_dropout_p=0, dropout_p=0, bidirectional=False, rnn_cell='lstm',\n",
    "                     variable_lengths=False, word2vec=None, fix_embedding=False):\n",
    "            super(Encoder, self).__init__(vocab_size, max_len, hidden_size, input_dropout_p, dropout_p, n_layers, rnn_cell)\n",
    "            self.variable_lengths = variable_lengths\n",
    "            if word2vec is not None:\n",
    "                assert word2vec.size(0) == vocab_size\n",
    "                self.word_vec_dim = word2vec.size(1)\n",
    "                self.embedding = nn.Embedding(vocab_size, self.word_vec_dim)\n",
    "                self.embedding.weight = nn.Parameter(word2vec)\n",
    "            else:\n",
    "                self.word_vec_dim = word_vec_dim\n",
    "                self.embedding = nn.Embedding(vocab_size, word_vec_dim)\n",
    "            if fix_embedding:\n",
    "                self.embedding.weight.requires_grad = False\n",
    "            self.rnn = self.rnn_cell(self.word_vec_dim, hidden_size, n_layers, \n",
    "                                     batch_first=True, bidirectional=bidirectional, dropout=dropout_p)\n",
    "\n",
    "        def forward(self, input_var, input_lengths=None):\n",
    "            \"\"\"\n",
    "            To do: add input, output dimensions to docstring\n",
    "            \"\"\"\n",
    "            embedded = self.embedding(input_var)\n",
    "            embedded = self.input_dropout(embedded)\n",
    "            if self.variable_lengths:\n",
    "                embedded = nn.utils.rnn.pack_padded_sequence(embedded, input_lengths, batch_first=True)\n",
    "            output, hidden = self.rnn(embedded)\n",
    "            if self.variable_lengths:\n",
    "                output, _ = nn.utils.rnn.pad_packed_sequence(output, batch_first=True)\n",
    "            return output, hidden"
   ]
  },
  {
   "cell_type": "code",
   "execution_count": null,
   "metadata": {},
   "outputs": [],
   "source": [
    "class Encoder(BaseRNN):\n",
    "        \"\"\"Encoder RNN module\"\"\"\n",
    "\n",
    "        def __init__(self, vocab_size, max_len, word_vec_dim, hidden_size, n_layers,\n",
    "                     input_dropout_p=0, dropout_p=0, bidirectional=False, rnn_cell='lstm',\n",
    "                     variable_lengths=False, word2vec=None, fix_embedding=False):\n",
    "            \n",
    "            super(Encoder, self).__init__(vocab_size, max_len, hidden_size, input_dropout_p, dropout_p, n_layers, rnn_cell)\n",
    "            self.variable_lengths = variable_lengths\n",
    "            if word2vec is not None:\n",
    "                assert word2vec.size(0) == vocab_size\n",
    "                self.word_vec_dim = word2vec.size(1)\n",
    "                self.embedding = Keras.layers.Embedding(vocab_size, self.word_vec_dim, embeddings_initializer=tf.keras.initializers.Constant(embedding_matrix))\n",
    "            else:\n",
    "                self.word_vec_dim = word_vec_dim\n",
    "                self.embedding = nn.Embedding(vocab_size, word_vec_dim)\n",
    "            if fix_embedding:\n",
    "                self.embedding.weight.requires_grad = False\n",
    "            self.rnn = self.rnn_cell(self.word_vec_dim, hidden_size, n_layers, \n",
    "                                     batch_first=True, bidirectional=bidirectional, dropout=dropout_p)"
   ]
  }
 ],
 "metadata": {
  "kernelspec": {
   "display_name": "Python 3",
   "language": "python",
   "name": "python3"
  },
  "language_info": {
   "codemirror_mode": {
    "name": "ipython",
    "version": 3
   },
   "file_extension": ".py",
   "mimetype": "text/x-python",
   "name": "python",
   "nbconvert_exporter": "python",
   "pygments_lexer": "ipython3",
   "version": "3.7.3"
  }
 },
 "nbformat": 4,
 "nbformat_minor": 2
}
