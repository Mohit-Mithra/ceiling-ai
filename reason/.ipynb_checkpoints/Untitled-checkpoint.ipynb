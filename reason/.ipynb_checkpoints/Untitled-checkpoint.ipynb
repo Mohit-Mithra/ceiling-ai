{
 "cells": [
  {
   "cell_type": "code",
   "execution_count": 1,
   "metadata": {},
   "outputs": [],
   "source": [
    "import tensorflow.keras as keras\n",
    "import tensorflow as tf"
   ]
  },
  {
   "cell_type": "code",
   "execution_count": null,
   "metadata": {},
   "outputs": [],
   "source": [
    "class Seq2seq(keras.layers.Layer):\n",
    "    \"\"\"Seq2seq model module\n",
    "    To do: add docstring to methods\n",
    "    \"\"\"\n",
    "    \n",
    "    def __init__(self, encoder, decoder):\n",
    "        super(Seq2seq, self).__init__()\n",
    "        self.encoder = encoder\n",
    "        self.decoder = decoder\n",
    "\n",
    "    def forward(self, x, y, input_lengths=None):\n",
    "        encoder_outputs, encoder_hidden = self.encoder(x, input_lengths)\n",
    "        decoder_outputs, decoder_hidden = self.decoder(y, encoder_outputs, encoder_hidden)\n",
    "        return decoder_outputs\n",
    "    \n",
    "    def sample_output(self, x, input_lengths=None):\n",
    "        encoder_outputs, encoder_hidden = self.encoder(x, input_lengths)\n",
    "        output_symbols, _ = self.decoder.forward_sample(encoder_outputs, encoder_hidden)\n",
    "        return tf.transpose(tf.concat((output_symbols), perm = [0,1])) \n",
    "        #return np.concatenate((output_symbols)).transpose(output_symbols, perm = [0,1])   #change line - check\n",
    "\n",
    "    def reinforce_forward(self, x, input_lengths=None):\n",
    "        encoder_outputs, encoder_hidden = self.encoder(x, input_lengths)\n",
    "        self.output_symbols, self.output_logprobs = self.decoder.forward_sample(encoder_outputs, encoder_hidden, reinforce_sample=True)\n",
    "        return tf.transpose(tf.concat((self.output_symbols), perm = [0,1]))\n",
    "        ##return np.concatenate((self.output_symbols)).transpose(self.output_symbols,(0,1))  #change line - check\n",
    "\n",
    "    def reinforce_backward(self, reward, entropy_factor=0.0):\n",
    "        assert self.output_logprobs is not None and self.output_symbols is not None, 'must call reinforce_forward first'\n",
    "        losses = []\n",
    "        grad_output = []\n",
    "        for i, symbol in enumerate(self.output_symbols):\n",
    "            if len(self.output_symbols[0].shape) == 1:\n",
    "                loss = - torch.diag(torch.index_select(self.output_logprobs[i], 1, symbol)).sum()*reward \\\n",
    "                       + entropy_factor*(self.output_logprobs[i]*torch.exp(self.output_logprobs[i])).sum()  #change line #have to do this from scratch I believe.\n",
    "            else:\n",
    "                loss = - self.output_logprobs[i]*reward\n",
    "            losses.append(loss.sum())\n",
    "            grad_output.append(None)\n",
    "        torch.autograd.backward(losses, grad_output, retain_graph=True)  #change line\n",
    "    "
   ]
  }
 ],
 "metadata": {
  "kernelspec": {
   "display_name": "Python 3",
   "language": "python",
   "name": "python3"
  },
  "language_info": {
   "codemirror_mode": {
    "name": "ipython",
    "version": 3
   },
   "file_extension": ".py",
   "mimetype": "text/x-python",
   "name": "python",
   "nbconvert_exporter": "python",
   "pygments_lexer": "ipython3",
   "version": "3.7.3"
  }
 },
 "nbformat": 4,
 "nbformat_minor": 2
}
